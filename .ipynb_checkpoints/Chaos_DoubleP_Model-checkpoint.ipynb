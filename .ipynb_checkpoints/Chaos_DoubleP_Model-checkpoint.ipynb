{
 "cells": [
  {
   "cell_type": "code",
   "execution_count": null,
   "metadata": {},
   "outputs": [],
   "source": [
    "import pickle\n",
    "import numpy as np\n",
    "import matplotlib.pyplot as plt\n",
    "import pandas as pd\n",
    "import os\n",
    "import scipy.stats\n",
    "\n"
   ]
  },
  {
   "cell_type": "code",
   "execution_count": null,
   "metadata": {},
   "outputs": [],
   "source": [
    "# here's where we do ODEs\n",
    "def double_pendulum():\n",
    "    '''Simulates two pendulum system'''\n",
    "    # Set intial conditions\n",
    "    # Run ode\n",
    "    # Plot\n",
    "    pass\n",
    "\n",
    "def dervis(t,x):\n",
    "    '''function to compute right hand side of \n",
    "    differential equation'''\n",
    "    # system of equations\n",
    "    \n",
    "    # TODO: add escapement force for pendulum 1\n",
    "    # TODO: add escapement force for pendulum 2\n",
    "    \n",
    "    # return derivatives\n",
    "    right_side = np.matmul(B,x)\n",
    "    dxdt = np.matmul(right_side, )\n",
    "    pass\n",
    "\n",
    "def force_escape(x,v):\n",
    "    '''computes force of escapement given\n",
    "        x: x position\n",
    "        v: computed velocity at that point'''\n",
    "    pass"
   ]
  }
 ],
 "metadata": {
  "kernelspec": {
   "display_name": "Python 2",
   "language": "python",
   "name": "python2"
  },
  "language_info": {
   "codemirror_mode": {
    "name": "ipython",
    "version": 2
   },
   "file_extension": ".py",
   "mimetype": "text/x-python",
   "name": "python",
   "nbconvert_exporter": "python",
   "pygments_lexer": "ipython2",
   "version": "2.7.12"
  }
 },
 "nbformat": 4,
 "nbformat_minor": 2
}
